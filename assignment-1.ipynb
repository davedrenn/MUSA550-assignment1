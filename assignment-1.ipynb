{
 "cells": [
  {
   "cell_type": "markdown",
   "metadata": {},
   "source": [
    "# Assignment #1: The Donut Effect for Philadelphia ZIP Codes\n",
    "\n",
    "In this assignment, we will practice our `pandas` skills and explore the [\"Donut Effect\"](https://www.gsb.stanford.edu/faculty-research/publications/donut-effect-how-covid-19-shapes-real-estate) within Philadelphia. The \"Donut Effect\" describes the following phenomenon: with more flexible working options and pandemic-driven density fears, people left urban dense cores and opted for more space in city suburbs, driving home and rental prices up in the suburbs relative to city centers.\n",
    "\n",
    "We will be working with [Zillow data](https://www.zillow.com/research/data/) for the Zillow Home Value Index (ZHVI) for Philadelphia ZIP codes. The goal will be to calculate home price appreciation in Philadelphia, comparing those ZIP codes in Center City (the central business district) to those not in Center City."
   ]
  },
  {
   "cell_type": "markdown",
   "metadata": {},
   "source": [
    "## 1. Load the data\n",
    "\n",
    "I've already downloaded the relevant data file and put in the `data/` folder. Let's load it using `pandas`.  \n",
    "\n",
    "**Note:** Be sure to use a *relative* file path to make it easier to load your data when grading. See [this guide](https://musa-550-fall-2023.github.io/resource/file-paths.html) for more info."
   ]
  },
  {
   "cell_type": "code",
   "execution_count": null,
   "metadata": {},
   "outputs": [],
   "source": []
  },
  {
   "cell_type": "markdown",
   "metadata": {},
   "source": [
    "## 2. Trim the data to just Philadelphia\n",
    "\n",
    "Select the subset of the dataframe for Philadelphia, PA."
   ]
  },
  {
   "cell_type": "code",
   "execution_count": null,
   "metadata": {},
   "outputs": [],
   "source": []
  },
  {
   "cell_type": "markdown",
   "metadata": {},
   "source": [
    "## 3. Melt the data into tidy format\n",
    "\n",
    "Let's transform the data from wide to tidy using the `pd.melt()` function. Create a new column in your data called \"ZHVI\" that holds the ZHVI values."
   ]
  },
  {
   "cell_type": "code",
   "execution_count": null,
   "metadata": {},
   "outputs": [],
   "source": []
  },
  {
   "cell_type": "markdown",
   "metadata": {},
   "source": [
    "## 4. Split the data for ZIP codes in/outside Center City\n",
    "\n",
    "To compare home appreciation in Center City vs. outside Center City, we'll need to split the data into two dataframes, one that holds the Center City ZIP codes and one that holds the data for the rest of the ZIP codes in Philadelphia.\n",
    "\n",
    "To help with this process, I've included a list of ZIP codes that make up the \"greater Center City\" region of Philadelphia. Use this list to split the melted data into two dataframes."
   ]
  },
  {
   "cell_type": "code",
   "execution_count": 27,
   "metadata": {
    "tags": []
   },
   "outputs": [],
   "source": [
    "greater_center_city_zip_codes = [\n",
    "    19123,\n",
    "    19102,\n",
    "    19103,\n",
    "    19106,\n",
    "    19107,\n",
    "    19109,\n",
    "    19130,\n",
    "    19146,\n",
    "    19147,\n",
    "]"
   ]
  },
  {
   "cell_type": "code",
   "execution_count": null,
   "metadata": {},
   "outputs": [],
   "source": []
  },
  {
   "cell_type": "markdown",
   "metadata": {},
   "source": [
    "## 5. Compare home value appreciation in Philadelpia\n",
    "\n",
    "In this step, we'll calculate the average percent increase in ZHVI from March 2020 to March 2022 for ZIP codes in/out of Center City. We'll do this by:\n",
    "\n",
    "- Writing a function (see the template below) that will calculate the percent increase in ZHVI from March 31, 2020 to March 31, 2022\n",
    "- Group your data and apply this function to calculate the ZHVI percent change for each ZIP code in Philadelphia. Do this for both of your dataframes from the previous step.\n",
    "- Calculate the average value across ZIP codes for both sets of ZIP codes and then compare\n",
    "\n",
    "You should see much larger growth for ZIP codes outside of Center City...the Donut Effect! "
   ]
  },
  {
   "cell_type": "code",
   "execution_count": 29,
   "metadata": {
    "tags": []
   },
   "outputs": [],
   "source": [
    "def calculate_percent_increase(group_df):\n",
    "    \"\"\"\n",
    "    Calculate the percent increase from 2020-03-31 to 2022-03-31.\n",
    "    \n",
    "    Note that `group_df` is the DataFrame for each group.\n",
    "    \"\"\"\n",
    "    \n",
    "    ##\n",
    "    ## Fill in this part!\n",
    "    ##"
   ]
  },
  {
   "cell_type": "code",
   "execution_count": null,
   "metadata": {},
   "outputs": [],
   "source": []
  },
  {
   "cell_type": "code",
   "execution_count": null,
   "metadata": {},
   "outputs": [],
   "source": []
  }
 ],
 "metadata": {
  "kernelspec": {
   "display_name": "Python 3 (ipykernel)",
   "language": "python",
   "name": "python3"
  },
  "language_info": {
   "codemirror_mode": {
    "name": "ipython",
    "version": 3
   },
   "file_extension": ".py",
   "mimetype": "text/x-python",
   "name": "python",
   "nbconvert_exporter": "python",
   "pygments_lexer": "ipython3",
   "version": "3.10.12"
  }
 },
 "nbformat": 4,
 "nbformat_minor": 4
}
